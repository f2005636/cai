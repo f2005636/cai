{
 "cells": [
  {
   "cell_type": "markdown",
   "metadata": {
    "id": "FHFv1ivtNAtq"
   },
   "source": [
    "# 1. Import libraries"
   ]
  },
  {
   "cell_type": "code",
   "execution_count": 1,
   "metadata": {
    "id": "iMiQhN-FMZKj"
   },
   "outputs": [],
   "source": [
    "import io\n",
    "import warnings\n",
    "import numpy as np\n",
    "import pandas as pd\n",
    "import matplotlib.pyplot as plt\n",
    "import seaborn as sns"
   ]
  },
  {
   "cell_type": "code",
   "execution_count": 2,
   "metadata": {
    "colab": {
     "base_uri": "https://localhost:8080/"
    },
    "id": "g3kyPLtLQiRG",
    "outputId": "af26a831-6578-45bc-a6d4-b041fcea17b4"
   },
   "outputs": [],
   "source": [
    "import statsmodels.api as sm\n",
    "from sklearn.metrics import roc_auc_score, confusion_matrix, precision_score, recall_score"
   ]
  },
  {
   "cell_type": "code",
   "execution_count": 3,
   "metadata": {
    "id": "qwXplcU-NNJg"
   },
   "outputs": [],
   "source": [
    "warnings.filterwarnings(\"ignore\")\n",
    "%matplotlib inline\n",
    "plt.style.use('seaborn-white')\n",
    "plt.rcParams['figure.figsize'] = 10,5"
   ]
  },
  {
   "cell_type": "markdown",
   "metadata": {
    "id": "9piNfcDfNQ-_"
   },
   "source": [
    "# 2. Import datasets"
   ]
  },
  {
   "cell_type": "code",
   "execution_count": 4,
   "metadata": {
    "colab": {
     "base_uri": "https://localhost:8080/"
    },
    "id": "8_-6QqIByhqm",
    "outputId": "2f014d01-f3ab-414d-a290-719a85fc01ee"
   },
   "outputs": [
    {
     "data": {
      "text/plain": [
       "(1100, 7)"
      ]
     },
     "execution_count": 4,
     "metadata": {},
     "output_type": "execute_result"
    }
   ],
   "source": [
    "df = pd.read_csv(\"Bank_Data_Bin.csv\")\n",
    "df.shape"
   ]
  },
  {
   "cell_type": "code",
   "execution_count": 5,
   "metadata": {
    "colab": {
     "base_uri": "https://localhost:8080/",
     "height": 394
    },
    "id": "jazAzQpBHMBE",
    "outputId": "4bd9c516-9e7f-4be0-d0b7-f7d25995ff0e"
   },
   "outputs": [
    {
     "data": {
      "text/html": [
       "<div>\n",
       "<style scoped>\n",
       "    .dataframe tbody tr th:only-of-type {\n",
       "        vertical-align: middle;\n",
       "    }\n",
       "\n",
       "    .dataframe tbody tr th {\n",
       "        vertical-align: top;\n",
       "    }\n",
       "\n",
       "    .dataframe thead th {\n",
       "        text-align: right;\n",
       "    }\n",
       "</style>\n",
       "<table border=\"1\" class=\"dataframe\">\n",
       "  <thead>\n",
       "    <tr style=\"text-align: right;\">\n",
       "      <th></th>\n",
       "      <th>count</th>\n",
       "      <th>mean</th>\n",
       "      <th>std</th>\n",
       "      <th>min</th>\n",
       "      <th>25%</th>\n",
       "      <th>50%</th>\n",
       "      <th>75%</th>\n",
       "      <th>max</th>\n",
       "    </tr>\n",
       "  </thead>\n",
       "  <tbody>\n",
       "    <tr>\n",
       "      <th>DEAFULTED</th>\n",
       "      <td>1100.0</td>\n",
       "      <td>0.410909</td>\n",
       "      <td>0.492223</td>\n",
       "      <td>0.000</td>\n",
       "      <td>0.000</td>\n",
       "      <td>0.000</td>\n",
       "      <td>1.000</td>\n",
       "      <td>1.000</td>\n",
       "    </tr>\n",
       "    <tr>\n",
       "      <th>age_bin</th>\n",
       "      <td>1100.0</td>\n",
       "      <td>-0.369772</td>\n",
       "      <td>0.360458</td>\n",
       "      <td>-0.762</td>\n",
       "      <td>-0.762</td>\n",
       "      <td>-0.292</td>\n",
       "      <td>-0.163</td>\n",
       "      <td>0.414</td>\n",
       "    </tr>\n",
       "    <tr>\n",
       "      <th>home_bin</th>\n",
       "      <td>1100.0</td>\n",
       "      <td>-0.377750</td>\n",
       "      <td>0.544098</td>\n",
       "      <td>-0.761</td>\n",
       "      <td>-0.761</td>\n",
       "      <td>-0.761</td>\n",
       "      <td>0.394</td>\n",
       "      <td>0.394</td>\n",
       "    </tr>\n",
       "    <tr>\n",
       "      <th>income_bin</th>\n",
       "      <td>1100.0</td>\n",
       "      <td>-0.423554</td>\n",
       "      <td>0.873224</td>\n",
       "      <td>-1.559</td>\n",
       "      <td>-1.003</td>\n",
       "      <td>0.208</td>\n",
       "      <td>0.208</td>\n",
       "      <td>1.006</td>\n",
       "    </tr>\n",
       "    <tr>\n",
       "      <th>gender_bin</th>\n",
       "      <td>1100.0</td>\n",
       "      <td>-0.360291</td>\n",
       "      <td>0.029543</td>\n",
       "      <td>-0.385</td>\n",
       "      <td>-0.385</td>\n",
       "      <td>-0.385</td>\n",
       "      <td>-0.325</td>\n",
       "      <td>-0.325</td>\n",
       "    </tr>\n",
       "    <tr>\n",
       "      <th>household_bin</th>\n",
       "      <td>1100.0</td>\n",
       "      <td>-0.365707</td>\n",
       "      <td>0.245486</td>\n",
       "      <td>-0.641</td>\n",
       "      <td>-0.641</td>\n",
       "      <td>-0.147</td>\n",
       "      <td>-0.147</td>\n",
       "      <td>-0.147</td>\n",
       "    </tr>\n",
       "    <tr>\n",
       "      <th>creditlines_bin</th>\n",
       "      <td>1100.0</td>\n",
       "      <td>-0.375680</td>\n",
       "      <td>0.373516</td>\n",
       "      <td>-1.044</td>\n",
       "      <td>-0.652</td>\n",
       "      <td>-0.104</td>\n",
       "      <td>-0.104</td>\n",
       "      <td>-0.104</td>\n",
       "    </tr>\n",
       "  </tbody>\n",
       "</table>\n",
       "</div>"
      ],
      "text/plain": [
       "                  count      mean       std    min    25%    50%    75%    max\n",
       "DEAFULTED        1100.0  0.410909  0.492223  0.000  0.000  0.000  1.000  1.000\n",
       "age_bin          1100.0 -0.369772  0.360458 -0.762 -0.762 -0.292 -0.163  0.414\n",
       "home_bin         1100.0 -0.377750  0.544098 -0.761 -0.761 -0.761  0.394  0.394\n",
       "income_bin       1100.0 -0.423554  0.873224 -1.559 -1.003  0.208  0.208  1.006\n",
       "gender_bin       1100.0 -0.360291  0.029543 -0.385 -0.385 -0.385 -0.325 -0.325\n",
       "household_bin    1100.0 -0.365707  0.245486 -0.641 -0.641 -0.147 -0.147 -0.147\n",
       "creditlines_bin  1100.0 -0.375680  0.373516 -1.044 -0.652 -0.104 -0.104 -0.104"
      ]
     },
     "execution_count": 5,
     "metadata": {},
     "output_type": "execute_result"
    }
   ],
   "source": [
    "df.describe().transpose()"
   ]
  },
  {
   "cell_type": "markdown",
   "metadata": {
    "id": "Vj1g5gTUWiL7"
   },
   "source": [
    "# 3. Correlation"
   ]
  },
  {
   "cell_type": "code",
   "execution_count": 6,
   "metadata": {
    "colab": {
     "base_uri": "https://localhost:8080/",
     "height": 411
    },
    "id": "vwkb6OADWhsn",
    "outputId": "1a990227-4cbe-48da-eddd-20fcde91ee5d"
   },
   "outputs": [
    {
     "data": {
      "image/png": "[encoded data removed]",
      "text/plain": [
       "<Figure size 720x360 with 2 Axes>"
      ]
     },
     "metadata": {},
     "output_type": "display_data"
    }
   ],
   "source": [
    "y = df['DEAFULTED']\n",
    "x = df[['age_bin', 'home_bin', 'income_bin', 'gender_bin', 'household_bin', 'creditlines_bin']]\n",
    "sns.heatmap(x.corr().abs(),cmap=\"YlOrBr\",annot = True);"
   ]
  },
  {
   "cell_type": "markdown",
   "metadata": {
    "id": "9TW2B4XAgAt1"
   },
   "source": [
    "# 4. Model - 1st iteration"
   ]
  },
  {
   "cell_type": "code",
   "execution_count": 7,
   "metadata": {
    "colab": {
     "base_uri": "https://localhost:8080/"
    },
    "id": "UDmCzF6YWRP2",
    "outputId": "284f73cd-4faf-402d-87aa-69af98c61b89"
   },
   "outputs": [
    {
     "name": "stdout",
     "output_type": "stream",
     "text": [
      "Optimization terminated successfully.\n",
      "         Current function value: 0.554095\n",
      "         Iterations 6\n",
      "                           Logit Regression Results                           \n",
      "==============================================================================\n",
      "Dep. Variable:              DEAFULTED   No. Observations:                 1100\n",
      "Model:                          Logit   Df Residuals:                     1093\n",
      "Method:                           MLE   Df Model:                            6\n",
      "Date:                Sun, 29 May 2022   Pseudo R-squ.:                  0.1818\n",
      "Time:                        16:58:00   Log-Likelihood:                -609.50\n",
      "converged:                       True   LL-Null:                       -744.91\n",
      "Covariance Type:            nonrobust   LLR p-value:                 1.459e-55\n",
      "===================================================================================\n",
      "                      coef    std err          z      P>|z|      [0.025      0.975]\n",
      "-----------------------------------------------------------------------------------\n",
      "const               1.6280      0.876      1.859      0.063      -0.088       3.344\n",
      "age_bin             0.0904      0.221      0.409      0.682      -0.343       0.523\n",
      "home_bin            0.4580      0.154      2.980      0.003       0.157       0.759\n",
      "income_bin          1.0196      0.095     10.783      0.000       0.834       1.205\n",
      "gender_bin          1.5949      2.395      0.666      0.505      -3.099       6.288\n",
      "household_bin       0.6327      0.299      2.115      0.034       0.046       1.219\n",
      "creditlines_bin     1.7746      0.216      8.211      0.000       1.351       2.198\n",
      "===================================================================================\n"
     ]
    }
   ],
   "source": [
    "y = df['DEAFULTED']\n",
    "x = df[['age_bin', 'home_bin', 'income_bin', 'gender_bin', 'household_bin', 'creditlines_bin']]\n",
    "x = sm.add_constant(x)\n",
    "log_reg = sm.Logit(y, x).fit()\n",
    "print(log_reg.summary())"
   ]
  },
  {
   "cell_type": "markdown",
   "metadata": {},
   "source": [
    "# 5. Model - 2nd iteration"
   ]
  },
  {
   "cell_type": "code",
   "execution_count": 8,
   "metadata": {},
   "outputs": [
    {
     "name": "stdout",
     "output_type": "stream",
     "text": [
      "Optimization terminated successfully.\n",
      "         Current function value: 0.554393\n",
      "         Iterations 6\n",
      "                           Logit Regression Results                           \n",
      "==============================================================================\n",
      "Dep. Variable:              DEAFULTED   No. Observations:                 1100\n",
      "Model:                          Logit   Df Residuals:                     1095\n",
      "Method:                           MLE   Df Model:                            4\n",
      "Date:                Sun, 29 May 2022   Pseudo R-squ.:                  0.1813\n",
      "Time:                        16:58:00   Log-Likelihood:                -609.83\n",
      "converged:                       True   LL-Null:                       -744.91\n",
      "Covariance Type:            nonrobust   LLR p-value:                 2.965e-57\n",
      "===================================================================================\n",
      "                      coef    std err          z      P>|z|      [0.025      0.975]\n",
      "-----------------------------------------------------------------------------------\n",
      "const               1.0242      0.158      6.496      0.000       0.715       1.333\n",
      "home_bin            0.4625      0.140      3.312      0.001       0.189       0.736\n",
      "income_bin          1.0307      0.093     11.097      0.000       0.849       1.213\n",
      "household_bin       0.6219      0.295      2.109      0.035       0.044       1.200\n",
      "creditlines_bin     1.7714      0.215      8.221      0.000       1.349       2.194\n",
      "===================================================================================\n"
     ]
    }
   ],
   "source": [
    "y = df['DEAFULTED']\n",
    "x = df[['home_bin', 'income_bin', 'household_bin', 'creditlines_bin']]\n",
    "x = sm.add_constant(x)\n",
    "log_reg = sm.Logit(y, x).fit()\n",
    "print(log_reg.summary())"
   ]
  },
  {
   "cell_type": "markdown",
   "metadata": {
    "id": "tKFQtsB6467c"
   },
   "source": [
    "# 6. AUROC and Gini"
   ]
  },
  {
   "cell_type": "code",
   "execution_count": 9,
   "metadata": {
    "colab": {
     "base_uri": "https://localhost:8080/"
    },
    "id": "UtXKKFtk3qQg",
    "outputId": "854cf158-968d-42c8-d6cd-57b46a5aa557"
   },
   "outputs": [
    {
     "name": "stdout",
     "output_type": "stream",
     "text": [
      "AUROC: 0.78\n"
     ]
    }
   ],
   "source": [
    "pred_values = log_reg.predict(x)\n",
    "pred_values = pd.DataFrame(pred_values)[0]\n",
    "print('AUROC:',np.round(roc_auc_score(y, pred_values), 3))"
   ]
  },
  {
   "cell_type": "code",
   "execution_count": 10,
   "metadata": {
    "colab": {
     "base_uri": "https://localhost:8080/"
    },
    "id": "J9ABFVpy49_s",
    "outputId": "4d7540cb-00da-443a-a228-7020d4f7a10f"
   },
   "outputs": [
    {
     "name": "stdout",
     "output_type": "stream",
     "text": [
      "Gini: 0.56\n"
     ]
    }
   ],
   "source": [
    "auroc = roc_auc_score(y, pred_values)\n",
    "gini = 2 * auroc - 1\n",
    "print('Gini:',np.round(gini, 3))"
   ]
  },
  {
   "cell_type": "markdown",
   "metadata": {
    "id": "16wbX2hoBMbY"
   },
   "source": [
    "# 7. F1 Score and Accuracy"
   ]
  },
  {
   "cell_type": "code",
   "execution_count": 11,
   "metadata": {},
   "outputs": [],
   "source": [
    "train_dict = {'actuals':y, 'predicted':pred_values}\n",
    "test_calc = pd.DataFrame(train_dict)"
   ]
  },
  {
   "cell_type": "code",
   "execution_count": 12,
   "metadata": {
    "colab": {
     "base_uri": "https://localhost:8080/"
    },
    "id": "3Rs0mhLs4Qrw",
    "outputId": "b2e12c31-5436-4c17-de33-7efff4a224f4"
   },
   "outputs": [
    {
     "name": "stdout",
     "output_type": "stream",
     "text": [
      "[[501 147]\n",
      " [150 302]]\n"
     ]
    }
   ],
   "source": [
    "def cut_off (x):\n",
    "    if x > 0.5: return 1\n",
    "    else: return 0\n",
    "test_calc['flag'] = test_calc['predicted'].apply(cut_off)\n",
    "print(confusion_matrix(test_calc['actuals'],test_calc['flag']))"
   ]
  },
  {
   "cell_type": "code",
   "execution_count": 13,
   "metadata": {
    "colab": {
     "base_uri": "https://localhost:8080/"
    },
    "id": "Cy5H9JGN5Nlf",
    "outputId": "922d2607-8d16-4ac7-cad7-eaacb81f0de0"
   },
   "outputs": [
    {
     "name": "stdout",
     "output_type": "stream",
     "text": [
      "Accuracy: 0.73\n"
     ]
    }
   ],
   "source": [
    "c = confusion_matrix(test_calc['actuals'],test_calc['flag'])\n",
    "print('Accuracy:',np.round((c[0][0] + c[1][1]) / c.sum(),3))"
   ]
  },
  {
   "cell_type": "code",
   "execution_count": 14,
   "metadata": {
    "colab": {
     "base_uri": "https://localhost:8080/"
    },
    "id": "dFsgpHOD5Nb-",
    "outputId": "e694b479-4269-4965-d40a-fc63a263bf4c"
   },
   "outputs": [
    {
     "name": "stdout",
     "output_type": "stream",
     "text": [
      "F1 Score: 0.67\n"
     ]
    }
   ],
   "source": [
    "p = c[1][1] / (c[1][1] + c[0][1])\n",
    "r = c[1][1] / (c[1][1] + c[1][0])\n",
    "print('F1 Score:',np.round((2 * p * r) / (p + r),3))"
   ]
  },
  {
   "cell_type": "code",
   "execution_count": 15,
   "metadata": {},
   "outputs": [
    {
     "name": "stdout",
     "output_type": "stream",
     "text": [
      "0.673\n",
      "0.668\n"
     ]
    }
   ],
   "source": [
    "print(np.round(precision_score(test_calc['actuals'],test_calc['flag']),3))\n",
    "print(np.round(recall_score(test_calc['actuals'],test_calc['flag']),3))"
   ]
  }
 ],
 "metadata": {
  "colab": {
   "collapsed_sections": [],
   "name": "04 Logistic Reg",
   "provenance": []
  },
  "kernelspec": {
   "display_name": "Python 3",
   "language": "python",
   "name": "python3"
  },
  "language_info": {
   "codemirror_mode": {
    "name": "ipython",
    "version": 3
   },
   "file_extension": ".py",
   "mimetype": "text/x-python",
   "name": "python",
   "nbconvert_exporter": "python",
   "pygments_lexer": "ipython3",
   "version": "3.8.5"
  }
 },
 "nbformat": 4,
 "nbformat_minor": 1
}
