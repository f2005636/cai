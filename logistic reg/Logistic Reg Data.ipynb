{
 "cells": [
  {
   "cell_type": "markdown",
   "metadata": {
    "id": "FHFv1ivtNAtq"
   },
   "source": [
    "# 2. Import libraries"
   ]
  },
  {
   "cell_type": "code",
   "execution_count": 1,
   "metadata": {
    "id": "iMiQhN-FMZKj"
   },
   "outputs": [],
   "source": [
    "import io\n",
    "import warnings\n",
    "import numpy as np\n",
    "import pandas as pd\n",
    "import matplotlib.pyplot as plt\n",
    "import seaborn as sns"
   ]
  },
  {
   "cell_type": "code",
   "execution_count": 2,
   "metadata": {
    "colab": {
     "base_uri": "https://localhost:8080/"
    },
    "id": "g3kyPLtLQiRG",
    "outputId": "af26a831-6578-45bc-a6d4-b041fcea17b4",
    "scrolled": true
   },
   "outputs": [],
   "source": [
    "import statsmodels.api as sm\n",
    "from sklearn.metrics import roc_auc_score, confusion_matrix"
   ]
  },
  {
   "cell_type": "code",
   "execution_count": 3,
   "metadata": {
    "id": "qwXplcU-NNJg"
   },
   "outputs": [],
   "source": [
    "warnings.filterwarnings(\"ignore\")\n",
    "%matplotlib inline\n",
    "plt.style.use('seaborn-white')\n",
    "plt.rcParams['figure.figsize'] = 10,5"
   ]
  },
  {
   "cell_type": "markdown",
   "metadata": {
    "id": "9piNfcDfNQ-_"
   },
   "source": [
    "# 3. Import dataset"
   ]
  },
  {
   "cell_type": "code",
   "execution_count": 4,
   "metadata": {
    "colab": {
     "base_uri": "https://localhost:8080/"
    },
    "id": "8_-6QqIByhqm",
    "outputId": "2f014d01-f3ab-414d-a290-719a85fc01ee"
   },
   "outputs": [
    {
     "data": {
      "text/plain": [
       "(1100, 7)"
      ]
     },
     "execution_count": 4,
     "metadata": {},
     "output_type": "execute_result"
    }
   ],
   "source": [
    "df = pd.read_csv(\"Bank_Data.csv\")\n",
    "df.shape"
   ]
  },
  {
   "cell_type": "markdown",
   "metadata": {
    "id": "Vj1g5gTUWiL7"
   },
   "source": [
    "# 4. Format dataset"
   ]
  },
  {
   "cell_type": "code",
   "execution_count": 5,
   "metadata": {
    "colab": {
     "base_uri": "https://localhost:8080/",
     "height": 411
    },
    "id": "vwkb6OADWhsn",
    "outputId": "1a990227-4cbe-48da-eddd-20fcde91ee5d"
   },
   "outputs": [],
   "source": [
    "df['age_bin'] = np.where(df['AGE']<=30,0.414,\n",
    "                         np.where(df['AGE']<=45,-0.292,\n",
    "                                  np.where(df['AGE']<=60,-0.762,-0.163)))\n",
    "\n",
    "df['home_bin'] = np.where(df['HOME']=='H', -0.761, 0.394)\n",
    "\n",
    "df['income_bin'] = np.where(df['INCOME']<=2,1.006,\n",
    "                            np.where(df['INCOME']<=4,0.208,\n",
    "                                     np.where(df['INCOME']<=5,-1.003,-1.559))) \n",
    "\n",
    "df['gender_bin'] = np.where(df['GENDER']=='F', -0.385, -0.325)\n",
    "\n",
    "df['household_bin'] = np.where(df['HOUSEHOLD_N'].isin([2,4,6]), -0.641, -0.147)\n",
    "\n",
    "df['creditlines_bin'] = np.where(df['CREDIT_LINES_N']==0, -1.044,\n",
    "                                 np.where(df['CREDIT_LINES_N']==1, -0.652, -0.104))"
   ]
  },
  {
   "cell_type": "markdown",
   "metadata": {
    "id": "9TW2B4XAgAt1"
   },
   "source": [
    "# 5. Export dataset"
   ]
  },
  {
   "cell_type": "code",
   "execution_count": 6,
   "metadata": {
    "colab": {
     "base_uri": "https://localhost:8080/"
    },
    "id": "dFsgpHOD5Nb-",
    "outputId": "e694b479-4269-4965-d40a-fc63a263bf4c"
   },
   "outputs": [
    {
     "data": {
      "text/plain": [
       "(1100, 7)"
      ]
     },
     "execution_count": 6,
     "metadata": {},
     "output_type": "execute_result"
    }
   ],
   "source": [
    "df = df[['DEAFULTED', 'age_bin', 'home_bin', 'income_bin', 'gender_bin', 'household_bin', 'creditlines_bin']]\n",
    "df.to_csv(\"Bank_Data_Bin.csv\", index=False)\n",
    "df.shape"
   ]
  }
 ],
 "metadata": {
  "colab": {
   "collapsed_sections": [],
   "name": "04 Logistic Reg",
   "provenance": []
  },
  "kernelspec": {
   "display_name": "Python 3",
   "language": "python",
   "name": "python3"
  },
  "language_info": {
   "codemirror_mode": {
    "name": "ipython",
    "version": 3
   },
   "file_extension": ".py",
   "mimetype": "text/x-python",
   "name": "python",
   "nbconvert_exporter": "python",
   "pygments_lexer": "ipython3",
   "version": "3.8.5"
  }
 },
 "nbformat": 4,
 "nbformat_minor": 1
}
