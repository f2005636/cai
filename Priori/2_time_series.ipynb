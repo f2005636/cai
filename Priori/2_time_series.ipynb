{
 "cells": [
  {
   "cell_type": "markdown",
   "metadata": {},
   "source": [
    "# Data Science – Skills Assessment \n",
    "### Rohit Garg"
   ]
  },
  {
   "cell_type": "markdown",
   "metadata": {},
   "source": [
    "---\n",
    "# 1. import libraries"
   ]
  },
  {
   "cell_type": "code",
   "execution_count": 1,
   "metadata": {},
   "outputs": [],
   "source": [
    "import warnings\n",
    "import numpy as np\n",
    "import pandas as pd\n",
    "import matplotlib.pyplot as plt\n",
    "import seaborn as sns"
   ]
  },
  {
   "cell_type": "code",
   "execution_count": 2,
   "metadata": {},
   "outputs": [],
   "source": [
    "pd.set_option('display.max_rows', None)\n",
    "warnings.filterwarnings(\"ignore\")\n",
    "plt.style.use('seaborn-white')\n",
    "plt.rcParams['figure.figsize'] = 15,5\n",
    "%matplotlib inline"
   ]
  },
  {
   "attachments": {},
   "cell_type": "markdown",
   "metadata": {},
   "source": [
    "---\n",
    "# 2. import dataset\n",
    "* On each successful transfer, the user credits the transfer amount to the Sending Country, and debits it (the transfer amount - transfer fee) at the Receiving country\n",
    "* Transfer can only be made if the receiving Country has atleast the transfer amount e.g. If user is sending 500 X from USA to UK, it will only be executed if UK has atleast 500 X to give to the user"
   ]
  },
  {
   "cell_type": "code",
   "execution_count": 3,
   "metadata": {},
   "outputs": [
    {
     "data": {
      "text/plain": [
       "(204, 4)"
      ]
     },
     "execution_count": 3,
     "metadata": {},
     "output_type": "execute_result"
    }
   ],
   "source": [
    "df = pd.read_csv('1_clean_data.csv')\n",
    "df = df[['Country', 'Currency', 'Time', 'To']]\n",
    "df.columns = ['Country', 'Currency', 'Time', 'Amount']\n",
    "df.shape"
   ]
  },
  {
   "cell_type": "markdown",
   "metadata": {},
   "source": [
    "---\n",
    "# 3. all combinations"
   ]
  },
  {
   "cell_type": "code",
   "execution_count": 4,
   "metadata": {},
   "outputs": [
    {
     "data": {
      "text/plain": [
       "(225, 3)"
      ]
     },
     "execution_count": 4,
     "metadata": {},
     "output_type": "execute_result"
    }
   ],
   "source": [
    "a = []\n",
    "b = []\n",
    "c = []\n",
    "\n",
    "for i in df['Country'].unique():\n",
    "    for j in df['Currency'].unique():\n",
    "        for k in df['Time'].unique():\n",
    "            a.append(i)\n",
    "            b.append(j)\n",
    "            c.append(k)\n",
    "\n",
    "df1 = pd.DataFrame({'Country':a, 'Currency':b, 'Time':c})\n",
    "df1.shape"
   ]
  },
  {
   "cell_type": "code",
   "execution_count": 5,
   "metadata": {},
   "outputs": [
    {
     "data": {
      "text/plain": [
       "(225, 4)"
      ]
     },
     "execution_count": 5,
     "metadata": {},
     "output_type": "execute_result"
    }
   ],
   "source": [
    "df2 = pd.merge(df1, df, how='left', on=['Country', 'Currency', 'Time'])\n",
    "df2 = df2.fillna(0)\n",
    "df2.shape"
   ]
  },
  {
   "cell_type": "markdown",
   "metadata": {},
   "source": [
    "---\n",
    "# 4. amounts"
   ]
  },
  {
   "cell_type": "code",
   "execution_count": 6,
   "metadata": {},
   "outputs": [
    {
     "name": "stdout",
     "output_type": "stream",
     "text": [
      "<class 'pandas.core.frame.DataFrame'>\n",
      "Int64Index: 225 entries, 0 to 224\n",
      "Data columns (total 4 columns):\n",
      "Country     225 non-null object\n",
      "Currency    225 non-null object\n",
      "Time        225 non-null int64\n",
      "Amount      225 non-null float64\n",
      "dtypes: float64(1), int64(1), object(2)\n",
      "memory usage: 8.8+ KB\n"
     ]
    }
   ],
   "source": [
    "df2.info()"
   ]
  },
  {
   "cell_type": "code",
   "execution_count": 7,
   "metadata": {},
   "outputs": [
    {
     "data": {
      "text/plain": [
       "(36, 4)"
      ]
     },
     "execution_count": 7,
     "metadata": {},
     "output_type": "execute_result"
    }
   ],
   "source": [
    "df2['Time_06'] = np.where(df2['Time'].isin([4,5,6,7,8,9]), 'a. 4 am to 9 am', \n",
    "                          np.where(df2['Time'].isin([10,11,12,13,14,15]), 'b. 10 am to 3 pm', \n",
    "                                   np.where(df2['Time'].isin([16,17,18,19,20,21]), 'c. 4 pm to 9 pm', 'd. 10 pm to 3 am'))) \n",
    "\n",
    "df3 = df2.groupby(['Country','Currency','Time_06']).agg({'Amount':'sum'}).reset_index()\n",
    "df3.columns = ['Country','Currency','Time_06', 'Amount_06']\n",
    "df3.shape"
   ]
  },
  {
   "cell_type": "code",
   "execution_count": 8,
   "metadata": {},
   "outputs": [
    {
     "data": {
      "text/plain": [
       "(18, 4)"
      ]
     },
     "execution_count": 8,
     "metadata": {},
     "output_type": "execute_result"
    }
   ],
   "source": [
    "df2['Time_12'] = np.where(df2['Time'].isin([10,11,12,13,14,15,16,17,18,19,20,21]), 'a. 10 am to 9 pm', 'b. 10 pm to 9 am')\n",
    "\n",
    "df4 = df2.groupby(['Country','Currency','Time_12']).agg({'Amount':'sum'}).reset_index()\n",
    "df4.columns = ['Country','Currency','Time_12', 'Amount_12']\n",
    "df4.shape"
   ]
  },
  {
   "cell_type": "markdown",
   "metadata": {},
   "source": [
    "---\n",
    "# 5. export dataset"
   ]
  },
  {
   "cell_type": "code",
   "execution_count": 9,
   "metadata": {},
   "outputs": [
    {
     "data": {
      "text/plain": [
       "(225, 8)"
      ]
     },
     "execution_count": 9,
     "metadata": {},
     "output_type": "execute_result"
    }
   ],
   "source": [
    "df5 = pd.merge(df2, df3, how='left', on=['Country','Currency','Time_06'])\n",
    "df5 = pd.merge(df5, df4, how='left', on=['Country','Currency','Time_12'])\n",
    "df5.to_csv('2_time_series.csv', index=False)\n",
    "df5.shape"
   ]
  }
 ],
 "metadata": {
  "kernelspec": {
   "display_name": "Python 3",
   "language": "python",
   "name": "python3"
  },
  "language_info": {
   "codemirror_mode": {
    "name": "ipython",
    "version": 3
   },
   "file_extension": ".py",
   "mimetype": "text/x-python",
   "name": "python",
   "nbconvert_exporter": "python",
   "pygments_lexer": "ipython3",
   "version": "3.7.6"
  }
 },
 "nbformat": 4,
 "nbformat_minor": 2
}
