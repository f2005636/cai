{
 "cells": [
  {
   "cell_type": "markdown",
   "metadata": {},
   "source": [
    "* input - aaaabbccca\n",
    "* output - 4a2b3c1a"
   ]
  },
  {
   "cell_type": "code",
   "execution_count": 1,
   "metadata": {},
   "outputs": [
    {
     "name": "stdout",
     "output_type": "stream",
     "text": [
      "4a2b3c1a\n"
     ]
    }
   ],
   "source": [
    "s_in = 'aaaabbccca'\n",
    "s_out = ''\n",
    "c = 1\n",
    "for i in range(len(s_in)-1):\n",
    "    if s_in[i] == s_in[i+1]:\n",
    "        c=c+1\n",
    "    else:\n",
    "        s_out=s_out+str(c)+s_in[i]\n",
    "        c = 1\n",
    "s_out=s_out+str(c)+s_in[i+1]\n",
    "print(s_out)"
   ]
  },
  {
   "cell_type": "markdown",
   "metadata": {},
   "source": [
    "**Write a python code for recognizing if entries to a list have the same characters or not?**"
   ]
  },
  {
   "cell_type": "code",
   "execution_count": 2,
   "metadata": {},
   "outputs": [
    {
     "name": "stdout",
     "output_type": "stream",
     "text": [
      "different\n"
     ]
    }
   ],
   "source": [
    "l = ['same', 'different', 'same']\n",
    "ele = l[0]\n",
    "flag = 0\n",
    "for i in l:\n",
    "    if i != ele:\n",
    "        flag = 1\n",
    "        break\n",
    "if flag==1: print('different')\n",
    "else: print('same')"
   ]
  },
  {
   "cell_type": "markdown",
   "metadata": {},
   "source": [
    "**You have an array of integers and you want to find a certain element?**"
   ]
  },
  {
   "cell_type": "code",
   "execution_count": 3,
   "metadata": {},
   "outputs": [
    {
     "name": "stdout",
     "output_type": "stream",
     "text": [
      "found\n"
     ]
    }
   ],
   "source": [
    "a = [4,2,5,7,42,35,108]\n",
    "ele = 42\n",
    "flag = 0\n",
    "for i in a:\n",
    "    if i == ele:\n",
    "        flag = 1\n",
    "        break \n",
    "if flag==1: print('found')\n",
    "else: print('not found')"
   ]
  },
  {
   "cell_type": "markdown",
   "metadata": {},
   "source": [
    "**You have an sorted array of integers and you want to find a certain element?**"
   ]
  },
  {
   "cell_type": "code",
   "execution_count": 4,
   "metadata": {},
   "outputs": [],
   "source": [
    "def binary_search(arr,start,end,val):\n",
    "    if start<=end:\n",
    "        mid = int((start+end)/2)\n",
    "        if arr[mid] < val: return binary_search(arr, mid+1, end, val)\n",
    "        elif arr[mid] > val: return binary_search(arr, start, mid-1, val)\n",
    "        else: return 1\n",
    "    else: return 0"
   ]
  },
  {
   "cell_type": "code",
   "execution_count": 5,
   "metadata": {
    "scrolled": false
   },
   "outputs": [
    {
     "name": "stdout",
     "output_type": "stream",
     "text": [
      "found\n"
     ]
    }
   ],
   "source": [
    "a = [2,4,5,7,35,42,108]\n",
    "ele = 42\n",
    "flag = binary_search(a,0,len(a),ele)\n",
    "if flag==1: print('found')\n",
    "else: print('not found')"
   ]
  },
  {
   "cell_type": "markdown",
   "metadata": {},
   "source": [
    "**For a long sorted list and a short (4 element) sorted list, what algorithm would you use to search the long list for the 4 elements?**"
   ]
  },
  {
   "cell_type": "code",
   "execution_count": 6,
   "metadata": {},
   "outputs": [
    {
     "name": "stdout",
     "output_type": "stream",
     "text": [
      "2 \t found\n",
      "3 \t found\n",
      "5 \t found\n"
     ]
    }
   ],
   "source": [
    "ll = [1,2,3,4,5,6,7,8,9,10]\n",
    "sl = [0,2,3,5]\n",
    "fl = []\n",
    "for i in sl:\n",
    "    for j in ll:\n",
    "        if i==j:\n",
    "            print(i,'\\t found')\n",
    "            break"
   ]
  },
  {
   "cell_type": "markdown",
   "metadata": {},
   "source": [
    "**Given an unfair coin with the probability of heads not equal to .5, what algorithm could you use to create a list of random 1s and 0s?**"
   ]
  },
  {
   "cell_type": "code",
   "execution_count": 7,
   "metadata": {},
   "outputs": [],
   "source": [
    "def biased_coin(cnt,prob):\n",
    "    lr = []\n",
    "    for i in range(cnt):\n",
    "        x = random.uniform(0, 1)\n",
    "        if x>prob: lr.append('tail')\n",
    "        else: lr.append('head')\n",
    "    return(lr)"
   ]
  },
  {
   "cell_type": "code",
   "execution_count": 8,
   "metadata": {},
   "outputs": [
    {
     "data": {
      "text/plain": [
       "['head',\n",
       " 'head',\n",
       " 'head',\n",
       " 'head',\n",
       " 'head',\n",
       " 'head',\n",
       " 'head',\n",
       " 'tail',\n",
       " 'head',\n",
       " 'head']"
      ]
     },
     "execution_count": 8,
     "metadata": {},
     "output_type": "execute_result"
    }
   ],
   "source": [
    "import random\n",
    "lr = biased_coin(10,.9)\n",
    "lr"
   ]
  },
  {
   "cell_type": "markdown",
   "metadata": {},
   "source": [
    "**If given an integer n and an array of numbers, give out the histogram divided into n bins**"
   ]
  },
  {
   "cell_type": "code",
   "execution_count": 9,
   "metadata": {},
   "outputs": [],
   "source": [
    "import matplotlib.pyplot as plt\n",
    "plt.style.use('seaborn-white')\n",
    "plt.rcParams['figure.figsize'] = 15,5\n",
    "%matplotlib inline"
   ]
  },
  {
   "cell_type": "code",
   "execution_count": 10,
   "metadata": {},
   "outputs": [
    {
     "data": {
      "image/png": "[encoded data removed]",
      "text/plain": [
       "<Figure size 432x288 with 1 Axes>"
      ]
     },
     "metadata": {
      "needs_background": "light"
     },
     "output_type": "display_data"
    }
   ],
   "source": [
    "a = range(1,100)\n",
    "n = 10\n",
    "plt.hist(a,n,edgecolor='white',color='gray');"
   ]
  },
  {
   "cell_type": "markdown",
   "metadata": {},
   "source": [
    "**Write a Python function that displays the first n Fibonacci numbers**"
   ]
  },
  {
   "cell_type": "code",
   "execution_count": 11,
   "metadata": {},
   "outputs": [
    {
     "name": "stdout",
     "output_type": "stream",
     "text": [
      "0 \t 0\n",
      "1 \t 1\n",
      "2 \t 1\n",
      "3 \t 2\n",
      "4 \t 3\n",
      "5 \t 5\n",
      "6 \t 8\n",
      "7 \t 13\n",
      "8 \t 21\n"
     ]
    }
   ],
   "source": [
    "a = 0\n",
    "b = 1\n",
    "i = 0\n",
    "n = 9\n",
    "while i<n:\n",
    "    print(i,\"\\t\",a)\n",
    "    i=i+1\n",
    "    if i < n: print(i,\"\\t\",b)\n",
    "    i=i+1\n",
    "    a = a+b\n",
    "    b = b+a"
   ]
  },
  {
   "cell_type": "markdown",
   "metadata": {},
   "source": [
    "**Given a bar plot, imagine you are pouring water from the top. How do you qualify how much water can be kept in the bar chart ?**"
   ]
  },
  {
   "cell_type": "code",
   "execution_count": 12,
   "metadata": {},
   "outputs": [
    {
     "data": {
      "text/plain": [
       "[0, 3, 1, 0]"
      ]
     },
     "execution_count": 12,
     "metadata": {},
     "output_type": "execute_result"
    }
   ],
   "source": [
    "barplot = [5,1,3,4]\n",
    "water = []\n",
    "for i in barplot:\n",
    "    fill = max(0, min(barplot[0],barplot[-1]) - i)\n",
    "    water.append(fill)\n",
    "water"
   ]
  },
  {
   "cell_type": "code",
   "execution_count": 13,
   "metadata": {},
   "outputs": [
    {
     "data": {
      "text/plain": [
       "[0, 0, 0]"
      ]
     },
     "execution_count": 13,
     "metadata": {},
     "output_type": "execute_result"
    }
   ],
   "source": [
    "barplot = [5,3,1]\n",
    "water = []\n",
    "for i in barplot:\n",
    "    fill = max(0, min(barplot[0],barplot[-1]) - i)\n",
    "    water.append(fill)\n",
    "water"
   ]
  },
  {
   "cell_type": "markdown",
   "metadata": {},
   "source": [
    "**sort list**"
   ]
  },
  {
   "cell_type": "code",
   "execution_count": 14,
   "metadata": {},
   "outputs": [
    {
     "data": {
      "text/plain": [
       "[2, 4, 5, 7, 35, 42, 108]"
      ]
     },
     "execution_count": 14,
     "metadata": {},
     "output_type": "execute_result"
    }
   ],
   "source": [
    "a = [108,4,2,5,7,42,35]\n",
    "a.sort()\n",
    "a"
   ]
  },
  {
   "cell_type": "code",
   "execution_count": 15,
   "metadata": {},
   "outputs": [
    {
     "data": {
      "text/plain": [
       "[2, 4, 5, 7, 35, 42, 108]"
      ]
     },
     "execution_count": 15,
     "metadata": {},
     "output_type": "execute_result"
    }
   ],
   "source": [
    "a = [108,4,2,5,7,42,35]\n",
    "for i in range(len(a)-1,0,-1):\n",
    "    for j in range(i):\n",
    "        if a[j]>a[j+1]:\n",
    "            a[j],a[j+1] = a[j+1],a[j]\n",
    "a"
   ]
  },
  {
   "cell_type": "markdown",
   "metadata": {},
   "source": [
    "**Suppose you have a list of strings, each of which is an English sentence. # Output a dictionary out_dict that maps a key n to the list of words that occur in n different sentences**"
   ]
  },
  {
   "cell_type": "code",
   "execution_count": 16,
   "metadata": {},
   "outputs": [
    {
     "data": {
      "text/plain": [
       "{0: 'The cat ate the fish', 1: 'The cat saw the roses', 2: 'The roses are red'}"
      ]
     },
     "execution_count": 16,
     "metadata": {},
     "output_type": "execute_result"
    }
   ],
   "source": [
    "str_list = ['The cat ate the fish', 'The cat saw the roses', 'The roses are red']\n",
    "i = 0\n",
    "out_dict={}\n",
    "for j in str_list:\n",
    "    out_dict[i] = j\n",
    "    i=i+1\n",
    "out_dict"
   ]
  }
 ],
 "metadata": {
  "kernelspec": {
   "display_name": "Python 3",
   "language": "python",
   "name": "python3"
  },
  "language_info": {
   "codemirror_mode": {
    "name": "ipython",
    "version": 3
   },
   "file_extension": ".py",
   "mimetype": "text/x-python",
   "name": "python",
   "nbconvert_exporter": "python",
   "pygments_lexer": "ipython3",
   "version": "3.7.6"
  }
 },
 "nbformat": 4,
 "nbformat_minor": 4
}
