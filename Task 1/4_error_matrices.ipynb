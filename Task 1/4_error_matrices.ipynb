{
 "cells": [
  {
   "cell_type": "markdown",
   "metadata": {
    "id": "tY7UWlp1bc_o"
   },
   "source": [
    "# 1. import libraries"
   ]
  },
  {
   "cell_type": "code",
   "execution_count": 1,
   "metadata": {
    "colab": {
     "base_uri": "https://localhost:8080/",
     "height": 73,
     "resources": {
      "http://localhost:8080/nbextensions/google.colab/files.js": {
       "data": "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",
       "headers": [
        [
         "content-type",
         "application/javascript"
        ]
       ],
       "ok": true,
       "status": 200,
       "status_text": ""
      }
     }
    },
    "id": "io1_mM8WVVdp",
    "outputId": "075d6756-ac5b-42e5-db26-ede17d9b1e5d"
   },
   "outputs": [],
   "source": [
    "import warnings\n",
    "import numpy as np\n",
    "import pandas as pd\n",
    "from sklearn import tree\n",
    "import matplotlib.pyplot as plt\n",
    "import seaborn as sns"
   ]
  },
  {
   "cell_type": "code",
   "execution_count": 2,
   "metadata": {},
   "outputs": [],
   "source": [
    "import xgboost as xgb\n",
    "from sklearn.metrics import roc_auc_score, confusion_matrix, classification_report"
   ]
  },
  {
   "cell_type": "code",
   "execution_count": 3,
   "metadata": {},
   "outputs": [],
   "source": [
    "warnings.filterwarnings(\"ignore\")\n",
    "%matplotlib inline\n",
    "plt.style.use('seaborn-white')\n",
    "plt.rcParams['figure.figsize'] = 15,5"
   ]
  },
  {
   "cell_type": "markdown",
   "metadata": {
    "id": "N0az7i6ybhIy"
   },
   "source": [
    "---\n",
    "# 2. import dataset"
   ]
  },
  {
   "cell_type": "code",
   "execution_count": 4,
   "metadata": {
    "colab": {
     "base_uri": "https://localhost:8080/"
    },
    "id": "DWHJy1qhV1ph",
    "outputId": "23ebea7f-0e58-4df2-e5ce-6f6ba0f3e732"
   },
   "outputs": [
    {
     "data": {
      "text/plain": [
       "(4293, 13)"
      ]
     },
     "execution_count": 4,
     "metadata": {},
     "output_type": "execute_result"
    }
   ],
   "source": [
    "df = pd.read_csv('clean.csv')\n",
    "df.shape"
   ]
  },
  {
   "cell_type": "code",
   "execution_count": 5,
   "metadata": {
    "id": "6CsBlJOwWEn9"
   },
   "outputs": [
    {
     "data": {
      "text/html": [
       "<div>\n",
       "<style scoped>\n",
       "    .dataframe tbody tr th:only-of-type {\n",
       "        vertical-align: middle;\n",
       "    }\n",
       "\n",
       "    .dataframe tbody tr th {\n",
       "        vertical-align: top;\n",
       "    }\n",
       "\n",
       "    .dataframe thead th {\n",
       "        text-align: right;\n",
       "    }\n",
       "</style>\n",
       "<table border=\"1\" class=\"dataframe\">\n",
       "  <thead>\n",
       "    <tr style=\"text-align: right;\">\n",
       "      <th></th>\n",
       "      <th>count</th>\n",
       "      <th>mean</th>\n",
       "      <th>std</th>\n",
       "      <th>min</th>\n",
       "      <th>25%</th>\n",
       "      <th>50%</th>\n",
       "      <th>75%</th>\n",
       "      <th>max</th>\n",
       "    </tr>\n",
       "  </thead>\n",
       "  <tbody>\n",
       "    <tr>\n",
       "      <th>C1</th>\n",
       "      <td>4293.0</td>\n",
       "      <td>-3.095073e-16</td>\n",
       "      <td>3.443987</td>\n",
       "      <td>-6.210224</td>\n",
       "      <td>-2.117362</td>\n",
       "      <td>-0.802819</td>\n",
       "      <td>0.800228</td>\n",
       "      <td>17.341713</td>\n",
       "    </tr>\n",
       "    <tr>\n",
       "      <th>C2</th>\n",
       "      <td>4293.0</td>\n",
       "      <td>-3.558507e-17</td>\n",
       "      <td>2.595577</td>\n",
       "      <td>-10.943134</td>\n",
       "      <td>-1.505902</td>\n",
       "      <td>-0.111367</td>\n",
       "      <td>1.388182</td>\n",
       "      <td>22.139193</td>\n",
       "    </tr>\n",
       "    <tr>\n",
       "      <th>C3</th>\n",
       "      <td>4293.0</td>\n",
       "      <td>2.177413e-15</td>\n",
       "      <td>2.467559</td>\n",
       "      <td>-7.171382</td>\n",
       "      <td>-1.398834</td>\n",
       "      <td>-0.191611</td>\n",
       "      <td>1.045199</td>\n",
       "      <td>29.636138</td>\n",
       "    </tr>\n",
       "    <tr>\n",
       "      <th>C4</th>\n",
       "      <td>4293.0</td>\n",
       "      <td>2.651294e-16</td>\n",
       "      <td>2.061767</td>\n",
       "      <td>-6.937613</td>\n",
       "      <td>-1.451622</td>\n",
       "      <td>-0.012118</td>\n",
       "      <td>1.433494</td>\n",
       "      <td>8.781903</td>\n",
       "    </tr>\n",
       "    <tr>\n",
       "      <th>C5</th>\n",
       "      <td>4293.0</td>\n",
       "      <td>-6.899779e-17</td>\n",
       "      <td>1.773863</td>\n",
       "      <td>-6.028839</td>\n",
       "      <td>-1.225517</td>\n",
       "      <td>-0.086506</td>\n",
       "      <td>1.149357</td>\n",
       "      <td>6.889825</td>\n",
       "    </tr>\n",
       "    <tr>\n",
       "      <th>C6</th>\n",
       "      <td>4293.0</td>\n",
       "      <td>5.379138e-18</td>\n",
       "      <td>1.674063</td>\n",
       "      <td>-4.785686</td>\n",
       "      <td>-0.993242</td>\n",
       "      <td>-0.213896</td>\n",
       "      <td>0.663270</td>\n",
       "      <td>14.234338</td>\n",
       "    </tr>\n",
       "    <tr>\n",
       "      <th>C7</th>\n",
       "      <td>4293.0</td>\n",
       "      <td>2.059331e-16</td>\n",
       "      <td>1.620776</td>\n",
       "      <td>-7.893766</td>\n",
       "      <td>-1.022278</td>\n",
       "      <td>-0.092850</td>\n",
       "      <td>0.947502</td>\n",
       "      <td>8.584635</td>\n",
       "    </tr>\n",
       "    <tr>\n",
       "      <th>C8</th>\n",
       "      <td>4293.0</td>\n",
       "      <td>5.082251e-16</td>\n",
       "      <td>1.513429</td>\n",
       "      <td>-5.621405</td>\n",
       "      <td>-0.818720</td>\n",
       "      <td>0.073281</td>\n",
       "      <td>0.855956</td>\n",
       "      <td>17.099350</td>\n",
       "    </tr>\n",
       "    <tr>\n",
       "      <th>C9</th>\n",
       "      <td>4293.0</td>\n",
       "      <td>-2.818875e-16</td>\n",
       "      <td>1.496118</td>\n",
       "      <td>-14.084030</td>\n",
       "      <td>-0.624685</td>\n",
       "      <td>0.091726</td>\n",
       "      <td>0.753313</td>\n",
       "      <td>16.431091</td>\n",
       "    </tr>\n",
       "    <tr>\n",
       "      <th>C10</th>\n",
       "      <td>4293.0</td>\n",
       "      <td>-2.557030e-17</td>\n",
       "      <td>1.436209</td>\n",
       "      <td>-5.219685</td>\n",
       "      <td>-0.729003</td>\n",
       "      <td>-0.019743</td>\n",
       "      <td>0.665288</td>\n",
       "      <td>13.897605</td>\n",
       "    </tr>\n",
       "    <tr>\n",
       "      <th>C11</th>\n",
       "      <td>4293.0</td>\n",
       "      <td>-7.003224e-17</td>\n",
       "      <td>1.395826</td>\n",
       "      <td>-7.286747</td>\n",
       "      <td>-0.699793</td>\n",
       "      <td>-0.132352</td>\n",
       "      <td>0.480310</td>\n",
       "      <td>11.205449</td>\n",
       "    </tr>\n",
       "    <tr>\n",
       "      <th>C12</th>\n",
       "      <td>4293.0</td>\n",
       "      <td>-1.328880e-16</td>\n",
       "      <td>1.350136</td>\n",
       "      <td>-12.822789</td>\n",
       "      <td>-0.541171</td>\n",
       "      <td>0.046386</td>\n",
       "      <td>0.620789</td>\n",
       "      <td>16.951282</td>\n",
       "    </tr>\n",
       "  </tbody>\n",
       "</table>\n",
       "</div>"
      ],
      "text/plain": [
       "      count          mean       std        min       25%       50%       75%  \\\n",
       "C1   4293.0 -3.095073e-16  3.443987  -6.210224 -2.117362 -0.802819  0.800228   \n",
       "C2   4293.0 -3.558507e-17  2.595577 -10.943134 -1.505902 -0.111367  1.388182   \n",
       "C3   4293.0  2.177413e-15  2.467559  -7.171382 -1.398834 -0.191611  1.045199   \n",
       "C4   4293.0  2.651294e-16  2.061767  -6.937613 -1.451622 -0.012118  1.433494   \n",
       "C5   4293.0 -6.899779e-17  1.773863  -6.028839 -1.225517 -0.086506  1.149357   \n",
       "C6   4293.0  5.379138e-18  1.674063  -4.785686 -0.993242 -0.213896  0.663270   \n",
       "C7   4293.0  2.059331e-16  1.620776  -7.893766 -1.022278 -0.092850  0.947502   \n",
       "C8   4293.0  5.082251e-16  1.513429  -5.621405 -0.818720  0.073281  0.855956   \n",
       "C9   4293.0 -2.818875e-16  1.496118 -14.084030 -0.624685  0.091726  0.753313   \n",
       "C10  4293.0 -2.557030e-17  1.436209  -5.219685 -0.729003 -0.019743  0.665288   \n",
       "C11  4293.0 -7.003224e-17  1.395826  -7.286747 -0.699793 -0.132352  0.480310   \n",
       "C12  4293.0 -1.328880e-16  1.350136 -12.822789 -0.541171  0.046386  0.620789   \n",
       "\n",
       "           max  \n",
       "C1   17.341713  \n",
       "C2   22.139193  \n",
       "C3   29.636138  \n",
       "C4    8.781903  \n",
       "C5    6.889825  \n",
       "C6   14.234338  \n",
       "C7    8.584635  \n",
       "C8   17.099350  \n",
       "C9   16.431091  \n",
       "C10  13.897605  \n",
       "C11  11.205449  \n",
       "C12  16.951282  "
      ]
     },
     "execution_count": 5,
     "metadata": {},
     "output_type": "execute_result"
    }
   ],
   "source": [
    "y = df['Classification']\n",
    "x = df.drop('Classification', axis=1)\n",
    "x.describe().transpose()"
   ]
  },
  {
   "cell_type": "markdown",
   "metadata": {
    "id": "ylwK7Xftbkcq"
   },
   "source": [
    "---\n",
    "# 3. model"
   ]
  },
  {
   "cell_type": "code",
   "execution_count": 6,
   "metadata": {},
   "outputs": [
    {
     "name": "stdout",
     "output_type": "stream",
     "text": [
      "[13:36:19] WARNING: C:/Users/Administrator/workspace/xgboost-win64_release_1.5.1/src/learner.cc:1115: Starting in XGBoost 1.3.0, the default evaluation metric used with the objective 'multi:softprob' was changed from 'merror' to 'mlogloss'. Explicitly set eval_metric if you'd like to restore the old behavior.\n"
     ]
    }
   ],
   "source": [
    "model = xgb.XGBClassifier(objective='multi:softprob', max_depth=25, subsample=0.5, n_estimators=100, random_state = 42)\n",
    "model.fit(x, y)\n",
    "pred_values = model.predict_proba(x)"
   ]
  },
  {
   "cell_type": "code",
   "execution_count": 7,
   "metadata": {},
   "outputs": [
    {
     "data": {
      "text/plain": [
       "(4293, 7)"
      ]
     },
     "execution_count": 7,
     "metadata": {},
     "output_type": "execute_result"
    }
   ],
   "source": [
    "pred_values = pd.DataFrame(pred_values)\n",
    "pred_values['max'] = pred_values.max(axis=1)\n",
    "pred_values['Classification'] = np.where(pred_values[0]==pred_values['max'],0,\n",
    "                                         np.where(pred_values[1]==pred_values['max'],1,\n",
    "                                                  np.where(pred_values[2]==pred_values['max'],2,\n",
    "                                                           np.where(pred_values[3]==pred_values['max'],3,\n",
    "                                                                    np.where(pred_values[4]==pred_values['max'],4,5)))))\n",
    "pred_values.shape"
   ]
  },
  {
   "cell_type": "markdown",
   "metadata": {
    "id": "6vmIUZWObrKR"
   },
   "source": [
    "---\n",
    "# 4. AUROC, Gini and KS"
   ]
  },
  {
   "cell_type": "code",
   "execution_count": 8,
   "metadata": {
    "scrolled": true
   },
   "outputs": [],
   "source": [
    "def stat1(y,pred_values):\n",
    "    print('AUROC:',np.round(roc_auc_score(y, pred_values), 3))\n",
    "    \n",
    "    auroc = roc_auc_score(y, pred_values)\n",
    "    gini = 2 * auroc - 1\n",
    "    print('Gini:',np.round(gini, 3))\n",
    "    \n",
    "    train_dict = {'actuals':y, 'predicted':pred_values}\n",
    "    train_calc = pd.DataFrame(train_dict)\n",
    "\n",
    "    train_calc['1-actuals'] = 1-train_calc['actuals']\n",
    "    train_calc['1-predicted'] = 1-train_calc['predicted']\n",
    "    train_calc['bucket'] = pd.qcut(train_calc['1-predicted'], 10, duplicates='drop')\n",
    "\n",
    "    kstable = train_calc.groupby('bucket', as_index = False)[['1-actuals','actuals']].sum()\n",
    "    kstable['event_rate'] = (kstable['actuals'] / kstable['actuals'].sum()).cumsum()\n",
    "    kstable['non_event_rate'] = (kstable['1-actuals'] / kstable['1-actuals'].sum()).cumsum()\n",
    "    kstable['KS'] = (kstable['event_rate'] - kstable['non_event_rate']).abs()\n",
    "    print('KS:',np.round(kstable['KS'].max(), 3))"
   ]
  },
  {
   "cell_type": "code",
   "execution_count": 9,
   "metadata": {},
   "outputs": [
    {
     "name": "stdout",
     "output_type": "stream",
     "text": [
      "NORMAL\n",
      "2757\n",
      "AUROC: 1.0\n",
      "Gini: 1.0\n",
      "KS: 0.934\n"
     ]
    }
   ],
   "source": [
    "print('NORMAL')\n",
    "y = np.where(df['Classification']==0,1,0)\n",
    "print(sum(y))\n",
    "stat1(y,pred_values[0])"
   ]
  },
  {
   "cell_type": "code",
   "execution_count": 10,
   "metadata": {},
   "outputs": [
    {
     "name": "stdout",
     "output_type": "stream",
     "text": [
      "NETWORK_DELAY_KANBAN_API_GATEWAY\n",
      "646\n",
      "AUROC: 1.0\n",
      "Gini: 1.0\n",
      "KS: 0.942\n"
     ]
    }
   ],
   "source": [
    "print('NETWORK_DELAY_KANBAN_API_GATEWAY')\n",
    "y = np.where(df['Classification']==1,1,0)\n",
    "print(sum(y))\n",
    "stat1(y,pred_values[1])"
   ]
  },
  {
   "cell_type": "code",
   "execution_count": 11,
   "metadata": {},
   "outputs": [
    {
     "name": "stdout",
     "output_type": "stream",
     "text": [
      "NETWORK_DELAY_KANBAN_COMMAND_SERVICE\n",
      "500\n",
      "AUROC: 1.0\n",
      "Gini: 1.0\n",
      "KS: 0.905\n"
     ]
    }
   ],
   "source": [
    "print('NETWORK_DELAY_KANBAN_COMMAND_SERVICE')\n",
    "y = np.where(df['Classification']==2,1,0)\n",
    "print(sum(y))\n",
    "stat1(y,pred_values[2])"
   ]
  },
  {
   "cell_type": "code",
   "execution_count": 12,
   "metadata": {},
   "outputs": [
    {
     "name": "stdout",
     "output_type": "stream",
     "text": [
      "POD_KILL_KANBAN_API_GATEWAY\n",
      "310\n",
      "AUROC: 1.0\n",
      "Gini: 1.0\n",
      "KS: 0.97\n"
     ]
    }
   ],
   "source": [
    "print('POD_KILL_KANBAN_API_GATEWAY')\n",
    "y = np.where(df['Classification']==3,1,0)\n",
    "print(sum(y))\n",
    "stat1(y,pred_values[3])"
   ]
  },
  {
   "cell_type": "code",
   "execution_count": 13,
   "metadata": {},
   "outputs": [
    {
     "name": "stdout",
     "output_type": "stream",
     "text": [
      "CPU_BURN_KANBAN_API_GATEWAY\n",
      "80\n",
      "AUROC: 1.0\n",
      "Gini: 1.0\n",
      "KS: 0.917\n"
     ]
    }
   ],
   "source": [
    "print('CPU_BURN_KANBAN_API_GATEWAY')\n",
    "y = np.where(df['Classification']==4,1,0)\n",
    "print(sum(y))\n",
    "stat1(y,pred_values[4])"
   ]
  },
  {
   "cell_type": "markdown",
   "metadata": {
    "id": "54qgzGldcDfS"
   },
   "source": [
    "---\n",
    "# 5. Confusion matrix"
   ]
  },
  {
   "cell_type": "code",
   "execution_count": 14,
   "metadata": {},
   "outputs": [],
   "source": [
    "y = np.where(df['Classification']==0,'NORMAL',\n",
    "             np.where(df['Classification']==1,'NETWORK_DELAY_KANBAN_API_GATEWAY',\n",
    "                      np.where(df['Classification']==2,'NETWORK_DELAY_KANBAN_COMMAND_SERVICE',\n",
    "                               np.where(df['Classification']==3,'POD_KILL_KANBAN_API_GATEWAY',\n",
    "                                        np.where(df['Classification']==4,'CPU_BURN_KANBAN_API_GATEWAY','MISSING')))))\n",
    "\n",
    "p = np.where(pred_values['Classification']==0,'NORMAL',\n",
    "             np.where(pred_values['Classification']==1,'NETWORK_DELAY_KANBAN_API_GATEWAY',\n",
    "                      np.where(pred_values['Classification']==2,'NETWORK_DELAY_KANBAN_COMMAND_SERVICE',\n",
    "                               np.where(pred_values['Classification']==3,'POD_KILL_KANBAN_API_GATEWAY',\n",
    "                                        np.where(pred_values['Classification']==4,'CPU_BURN_KANBAN_API_GATEWAY','MISSING')))))"
   ]
  },
  {
   "cell_type": "code",
   "execution_count": 15,
   "metadata": {},
   "outputs": [
    {
     "name": "stdout",
     "output_type": "stream",
     "text": [
      "[[  80    0    0    0    0]\n",
      " [   0  646    0    0    0]\n",
      " [   0    0  500    0    0]\n",
      " [   0    0    0 2757    0]\n",
      " [   0    0    0    0  310]]\n"
     ]
    }
   ],
   "source": [
    "print(confusion_matrix(y,p))"
   ]
  },
  {
   "cell_type": "code",
   "execution_count": 16,
   "metadata": {
    "colab": {
     "base_uri": "https://localhost:8080/"
    },
    "id": "iUVJQYrOZXol",
    "outputId": "1ac692de-6555-49f7-e7d1-90487ab385ee"
   },
   "outputs": [
    {
     "name": "stdout",
     "output_type": "stream",
     "text": [
      "Accuracy:                                       precision    recall  f1-score   support\n",
      "\n",
      "         CPU_BURN_KANBAN_API_GATEWAY       1.00      1.00      1.00        80\n",
      "    NETWORK_DELAY_KANBAN_API_GATEWAY       1.00      1.00      1.00       646\n",
      "NETWORK_DELAY_KANBAN_COMMAND_SERVICE       1.00      1.00      1.00       500\n",
      "                              NORMAL       1.00      1.00      1.00      2757\n",
      "         POD_KILL_KANBAN_API_GATEWAY       1.00      1.00      1.00       310\n",
      "\n",
      "                            accuracy                           1.00      4293\n",
      "                           macro avg       1.00      1.00      1.00      4293\n",
      "                        weighted avg       1.00      1.00      1.00      4293\n",
      "\n"
     ]
    }
   ],
   "source": [
    "print('Accuracy:',classification_report(y,p))                  "
   ]
  }
 ],
 "metadata": {
  "colab": {
   "collapsed_sections": [],
   "name": "31 Error Matrices.ipynb",
   "provenance": []
  },
  "kernelspec": {
   "display_name": "Python 3",
   "language": "python",
   "name": "python3"
  },
  "language_info": {
   "codemirror_mode": {
    "name": "ipython",
    "version": 3
   },
   "file_extension": ".py",
   "mimetype": "text/x-python",
   "name": "python",
   "nbconvert_exporter": "python",
   "pygments_lexer": "ipython3",
   "version": "3.7.6"
  }
 },
 "nbformat": 4,
 "nbformat_minor": 1
}
